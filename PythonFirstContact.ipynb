{
  "nbformat": 4,
  "nbformat_minor": 0,
  "metadata": {
    "colab": {
      "provenance": [],
      "authorship_tag": "ABX9TyPcac4DyenBk3699hTd+4ma",
      "include_colab_link": true
    },
    "kernelspec": {
      "name": "python3",
      "display_name": "Python 3"
    },
    "language_info": {
      "name": "python"
    }
  },
  "cells": [
    {
      "cell_type": "markdown",
      "metadata": {
        "id": "view-in-github",
        "colab_type": "text"
      },
      "source": [
        "<a href=\"https://colab.research.google.com/github/lopema/PythonPrimerContacto/blob/main/PythonFirstContact.ipynb\" target=\"_parent\"><img src=\"https://colab.research.google.com/assets/colab-badge.svg\" alt=\"Open In Colab\"/></a>"
      ]
    },
    {
      "cell_type": "markdown",
      "source": [
        "# Una tabla de multiplicar\n",
        "\n",
        "El siguiente código muestra la tabla de multiplicar de un determinado número:"
      ],
      "metadata": {
        "id": "-8uMWeLcN4D0"
      }
    },
    {
      "cell_type": "code",
      "execution_count": null,
      "metadata": {
        "colab": {
          "base_uri": "https://localhost:8080/"
        },
        "id": "OS3qLbNSNqtt",
        "outputId": "267f64a3-bd6c-43df-92f7-cf295fec7fc7"
      },
      "outputs": [
        {
          "output_type": "stream",
          "name": "stdout",
          "text": [
            "0 x 6 = 0\t\n",
            "1 x 6 = 6\t\n",
            "2 x 6 = 12\t\n",
            "3 x 6 = 18\t\n",
            "4 x 6 = 24\t\n",
            "5 x 6 = 30\t\n",
            "6 x 6 = 36\t\n",
            "7 x 6 = 42\t\n",
            "8 x 6 = 48\t\n",
            "9 x 6 = 54\t\n",
            "10 x 6 = 60\t\n"
          ]
        }
      ],
      "source": [
        "n = 6\n",
        "for i in range(0, 11):\n",
        "     print(i,\"x\",n,\"=\",i*n, end=\"\\t\")\n",
        "     print(\"\")"
      ]
    },
    {
      "cell_type": "markdown",
      "source": [
        "Diseña una función que acepte como parámetro de entrada un número y muestre la tabla de multiplicar de dicho número."
      ],
      "metadata": {
        "id": "hY5nT_qBPRsS"
      }
    },
    {
      "cell_type": "markdown",
      "source": [
        "*Aquí tu código*"
      ],
      "metadata": {
        "id": "hJc7YAvTPrLr"
      }
    }
  ]
}